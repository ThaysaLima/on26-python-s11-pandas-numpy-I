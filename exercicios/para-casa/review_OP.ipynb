{
 "cells": [
  {
   "cell_type": "markdown",
   "metadata": {},
   "source": [
    "# Review sobre o live action de One Piece\n",
    "\n",
    "Recentemente lançou o live action de um dos maiores animes da história, com 9.3 milhões de visualizações e 145.7 milhões de horas transmitidas na Netflix. Esse banco de dados mostra as avaliações mediante ao Internet Movie Database (IMDb), postado dia 10 de Outubro de 2023.\n",
    "\n",
    "Esse review contém Título(Title), Análise(Review), Data(Date) e Avaliação com nota(Rating)."
   ]
  },
  {
   "cell_type": "code",
   "execution_count": 3,
   "metadata": {},
   "outputs": [],
   "source": [
    "import pandas as pd \n",
    "import numpy as np\n",
    "from googletrans import Translator #Para conseguirmos no futuro conseguir traduzir as colunas."
   ]
  },
  {
   "cell_type": "code",
   "execution_count": 4,
   "metadata": {},
   "outputs": [
    {
     "data": {
      "text/html": [
       "<div>\n",
       "<style scoped>\n",
       "    .dataframe tbody tr th:only-of-type {\n",
       "        vertical-align: middle;\n",
       "    }\n",
       "\n",
       "    .dataframe tbody tr th {\n",
       "        vertical-align: top;\n",
       "    }\n",
       "\n",
       "    .dataframe thead th {\n",
       "        text-align: right;\n",
       "    }\n",
       "</style>\n",
       "<table border=\"1\" class=\"dataframe\">\n",
       "  <thead>\n",
       "    <tr style=\"text-align: right;\">\n",
       "      <th></th>\n",
       "      <th>Title</th>\n",
       "      <th>Review</th>\n",
       "      <th>Date</th>\n",
       "      <th>Rating</th>\n",
       "    </tr>\n",
       "  </thead>\n",
       "  <tbody>\n",
       "    <tr>\n",
       "      <th>0</th>\n",
       "      <td>Never seen the anime and still enjoyed it</td>\n",
       "      <td>I have to admit that I've never watched any of...</td>\n",
       "      <td>4 September 2023</td>\n",
       "      <td>8.0</td>\n",
       "    </tr>\n",
       "    <tr>\n",
       "      <th>1</th>\n",
       "      <td>Not My Kind of Show. But This I Loved.</td>\n",
       "      <td>I'm a 60yo man &amp; old school like the The Marin...</td>\n",
       "      <td>4 September 2023</td>\n",
       "      <td>9.0</td>\n",
       "    </tr>\n",
       "    <tr>\n",
       "      <th>2</th>\n",
       "      <td>I'm Shocked By How Good This Is...</td>\n",
       "      <td>Every live action anime that I've briefly seen...</td>\n",
       "      <td>1 September 2023</td>\n",
       "      <td>9.0</td>\n",
       "    </tr>\n",
       "  </tbody>\n",
       "</table>\n",
       "</div>"
      ],
      "text/plain": [
       "                                       Title  \\\n",
       "0  Never seen the anime and still enjoyed it   \n",
       "1     Not My Kind of Show. But This I Loved.   \n",
       "2         I'm Shocked By How Good This Is...   \n",
       "\n",
       "                                              Review              Date  Rating  \n",
       "0  I have to admit that I've never watched any of...  4 September 2023     8.0  \n",
       "1  I'm a 60yo man & old school like the The Marin...  4 September 2023     9.0  \n",
       "2  Every live action anime that I've briefly seen...  1 September 2023     9.0  "
      ]
     },
     "execution_count": 4,
     "metadata": {},
     "output_type": "execute_result"
    }
   ],
   "source": [
    "df = pd.read_csv('reviews_OP.csv')\n",
    "df.head(3)"
   ]
  },
  {
   "cell_type": "code",
   "execution_count": 5,
   "metadata": {},
   "outputs": [
    {
     "name": "stdout",
     "output_type": "stream",
     "text": [
      "<class 'pandas.core.frame.DataFrame'>\n",
      "RangeIndex: 878 entries, 0 to 877\n",
      "Data columns (total 4 columns):\n",
      " #   Column  Non-Null Count  Dtype  \n",
      "---  ------  --------------  -----  \n",
      " 0   Title   878 non-null    object \n",
      " 1   Review  878 non-null    object \n",
      " 2   Date    878 non-null    object \n",
      " 3   Rating  870 non-null    float64\n",
      "dtypes: float64(1), object(3)\n",
      "memory usage: 27.6+ KB\n"
     ]
    }
   ],
   "source": [
    "df.info([]) #falta 8 rating. "
   ]
  },
  {
   "cell_type": "code",
   "execution_count": 6,
   "metadata": {},
   "outputs": [
    {
     "data": {
      "text/plain": [
       "Index(['Title', 'Review', 'Date', 'Rating'], dtype='object')"
      ]
     },
     "execution_count": 6,
     "metadata": {},
     "output_type": "execute_result"
    }
   ],
   "source": [
    "df.columns\n"
   ]
  },
  {
   "cell_type": "code",
   "execution_count": 7,
   "metadata": {},
   "outputs": [
    {
     "data": {
      "text/html": [
       "<div>\n",
       "<style scoped>\n",
       "    .dataframe tbody tr th:only-of-type {\n",
       "        vertical-align: middle;\n",
       "    }\n",
       "\n",
       "    .dataframe tbody tr th {\n",
       "        vertical-align: top;\n",
       "    }\n",
       "\n",
       "    .dataframe thead th {\n",
       "        text-align: right;\n",
       "    }\n",
       "</style>\n",
       "<table border=\"1\" class=\"dataframe\">\n",
       "  <thead>\n",
       "    <tr style=\"text-align: right;\">\n",
       "      <th></th>\n",
       "      <th>Title</th>\n",
       "      <th>Review</th>\n",
       "      <th>Date</th>\n",
       "      <th>Rating</th>\n",
       "    </tr>\n",
       "  </thead>\n",
       "  <tbody>\n",
       "    <tr>\n",
       "      <th>143</th>\n",
       "      <td>I didn't expect much, but I absolutely love it.</td>\n",
       "      <td>I admit, when I write reviews it's usually whe...</td>\n",
       "      <td>25 September 2023</td>\n",
       "      <td>NaN</td>\n",
       "    </tr>\n",
       "    <tr>\n",
       "      <th>145</th>\n",
       "      <td>Thank you for heading this, Oda!</td>\n",
       "      <td>Fun fact: Eiichiro Oda, the creator of the man...</td>\n",
       "      <td>12 September 2023</td>\n",
       "      <td>NaN</td>\n",
       "    </tr>\n",
       "    <tr>\n",
       "      <th>447</th>\n",
       "      <td>DIFFERENT MEDIA MEANS DIFFERENT STORYTELLING A...</td>\n",
       "      <td>Just because there are many scenes in the mang...</td>\n",
       "      <td>1 September 2023</td>\n",
       "      <td>NaN</td>\n",
       "    </tr>\n",
       "    <tr>\n",
       "      <th>500</th>\n",
       "      <td>I'm not sure about rating yet!</td>\n",
       "      <td>I like the characters so far except Sanji's ha...</td>\n",
       "      <td>4 September 2023</td>\n",
       "      <td>NaN</td>\n",
       "    </tr>\n",
       "    <tr>\n",
       "      <th>520</th>\n",
       "      <td>Great adaptation!</td>\n",
       "      <td>One Piece somehow managed to pull it off: a le...</td>\n",
       "      <td>8 September 2023</td>\n",
       "      <td>NaN</td>\n",
       "    </tr>\n",
       "    <tr>\n",
       "      <th>540</th>\n",
       "      <td>My disappointment is immeasurable</td>\n",
       "      <td>As a life long fan of One Piece I don't know w...</td>\n",
       "      <td>31 August 2023</td>\n",
       "      <td>NaN</td>\n",
       "    </tr>\n",
       "    <tr>\n",
       "      <th>569</th>\n",
       "      <td>A must watch</td>\n",
       "      <td>If you browse there are series with more actio...</td>\n",
       "      <td>2 September 2023</td>\n",
       "      <td>NaN</td>\n",
       "    </tr>\n",
       "    <tr>\n",
       "      <th>782</th>\n",
       "      <td>Emily Rudd's hair as Nami</td>\n",
       "      <td>Everything went so right with casting and thei...</td>\n",
       "      <td>1 September 2023</td>\n",
       "      <td>NaN</td>\n",
       "    </tr>\n",
       "  </tbody>\n",
       "</table>\n",
       "</div>"
      ],
      "text/plain": [
       "                                                 Title  \\\n",
       "143    I didn't expect much, but I absolutely love it.   \n",
       "145                   Thank you for heading this, Oda!   \n",
       "447  DIFFERENT MEDIA MEANS DIFFERENT STORYTELLING A...   \n",
       "500                     I'm not sure about rating yet!   \n",
       "520                                  Great adaptation!   \n",
       "540                  My disappointment is immeasurable   \n",
       "569                                       A must watch   \n",
       "782                          Emily Rudd's hair as Nami   \n",
       "\n",
       "                                                Review               Date  \\\n",
       "143  I admit, when I write reviews it's usually whe...  25 September 2023   \n",
       "145  Fun fact: Eiichiro Oda, the creator of the man...  12 September 2023   \n",
       "447  Just because there are many scenes in the mang...   1 September 2023   \n",
       "500  I like the characters so far except Sanji's ha...   4 September 2023   \n",
       "520  One Piece somehow managed to pull it off: a le...   8 September 2023   \n",
       "540  As a life long fan of One Piece I don't know w...     31 August 2023   \n",
       "569  If you browse there are series with more actio...   2 September 2023   \n",
       "782  Everything went so right with casting and thei...   1 September 2023   \n",
       "\n",
       "     Rating  \n",
       "143     NaN  \n",
       "145     NaN  \n",
       "447     NaN  \n",
       "500     NaN  \n",
       "520     NaN  \n",
       "540     NaN  \n",
       "569     NaN  \n",
       "782     NaN  "
      ]
     },
     "execution_count": 7,
     "metadata": {},
     "output_type": "execute_result"
    }
   ],
   "source": [
    "coluna_com_null = df[df.isnull().any(axis=1)]\n",
    "coluna_com_null #(8,4)"
   ]
  },
  {
   "cell_type": "code",
   "execution_count": 8,
   "metadata": {},
   "outputs": [
    {
     "data": {
      "text/plain": [
       "(870, 4)"
      ]
     },
     "execution_count": 8,
     "metadata": {},
     "output_type": "execute_result"
    }
   ],
   "source": [
    "df_remover = df.dropna(subset=['Rating'])\n",
    "df_remover.shape"
   ]
  },
  {
   "cell_type": "code",
   "execution_count": 9,
   "metadata": {},
   "outputs": [],
   "source": [
    "df_nova = df.insert(1, 'linha nova', 3, allow_duplicates=False)"
   ]
  },
  {
   "cell_type": "code",
   "execution_count": 10,
   "metadata": {},
   "outputs": [
    {
     "data": {
      "text/html": [
       "<div>\n",
       "<style scoped>\n",
       "    .dataframe tbody tr th:only-of-type {\n",
       "        vertical-align: middle;\n",
       "    }\n",
       "\n",
       "    .dataframe tbody tr th {\n",
       "        vertical-align: top;\n",
       "    }\n",
       "\n",
       "    .dataframe thead th {\n",
       "        text-align: right;\n",
       "    }\n",
       "</style>\n",
       "<table border=\"1\" class=\"dataframe\">\n",
       "  <thead>\n",
       "    <tr style=\"text-align: right;\">\n",
       "      <th></th>\n",
       "      <th>Title</th>\n",
       "      <th>linha nova</th>\n",
       "      <th>Review</th>\n",
       "      <th>Date</th>\n",
       "      <th>Rating</th>\n",
       "    </tr>\n",
       "  </thead>\n",
       "  <tbody>\n",
       "    <tr>\n",
       "      <th>0</th>\n",
       "      <td>Never seen the anime and still enjoyed it</td>\n",
       "      <td>3</td>\n",
       "      <td>I have to admit that I've never watched any of...</td>\n",
       "      <td>4 September 2023</td>\n",
       "      <td>8.0</td>\n",
       "    </tr>\n",
       "    <tr>\n",
       "      <th>1</th>\n",
       "      <td>Not My Kind of Show. But This I Loved.</td>\n",
       "      <td>3</td>\n",
       "      <td>I'm a 60yo man &amp; old school like the The Marin...</td>\n",
       "      <td>4 September 2023</td>\n",
       "      <td>9.0</td>\n",
       "    </tr>\n",
       "    <tr>\n",
       "      <th>2</th>\n",
       "      <td>I'm Shocked By How Good This Is...</td>\n",
       "      <td>3</td>\n",
       "      <td>Every live action anime that I've briefly seen...</td>\n",
       "      <td>1 September 2023</td>\n",
       "      <td>9.0</td>\n",
       "    </tr>\n",
       "    <tr>\n",
       "      <th>3</th>\n",
       "      <td>See Netflix?? You CAN do it...</td>\n",
       "      <td>3</td>\n",
       "      <td>This is bar none one of the best live-action a...</td>\n",
       "      <td>4 September 2023</td>\n",
       "      <td>10.0</td>\n",
       "    </tr>\n",
       "    <tr>\n",
       "      <th>4</th>\n",
       "      <td>WE WANT SEASON 2</td>\n",
       "      <td>3</td>\n",
       "      <td>Being a one piece fan myself, I was a bit inse...</td>\n",
       "      <td>31 August 2023</td>\n",
       "      <td>10.0</td>\n",
       "    </tr>\n",
       "    <tr>\n",
       "      <th>...</th>\n",
       "      <td>...</td>\n",
       "      <td>...</td>\n",
       "      <td>...</td>\n",
       "      <td>...</td>\n",
       "      <td>...</td>\n",
       "    </tr>\n",
       "    <tr>\n",
       "      <th>873</th>\n",
       "      <td>Most faithful and high quality adaptation sinc...</td>\n",
       "      <td>3</td>\n",
       "      <td>I haven't written a review in a very long time...</td>\n",
       "      <td>2 September 2023</td>\n",
       "      <td>10.0</td>\n",
       "    </tr>\n",
       "    <tr>\n",
       "      <th>874</th>\n",
       "      <td>Me and my son loving it! The best entertaining...</td>\n",
       "      <td>3</td>\n",
       "      <td>This is my first IMDb review.\\n\\nI've watched ...</td>\n",
       "      <td>1 September 2023</td>\n",
       "      <td>9.0</td>\n",
       "    </tr>\n",
       "    <tr>\n",
       "      <th>875</th>\n",
       "      <td>A very good adaptation to the famous anime</td>\n",
       "      <td>3</td>\n",
       "      <td>An absolute gem! This show is a must-watch, an...</td>\n",
       "      <td>3 September 2023</td>\n",
       "      <td>10.0</td>\n",
       "    </tr>\n",
       "    <tr>\n",
       "      <th>876</th>\n",
       "      <td>This wonderful thing...</td>\n",
       "      <td>3</td>\n",
       "      <td>I recently dived (no pun intended) into the wo...</td>\n",
       "      <td>2 September 2023</td>\n",
       "      <td>10.0</td>\n",
       "    </tr>\n",
       "    <tr>\n",
       "      <th>877</th>\n",
       "      <td>Best adaptation so far</td>\n",
       "      <td>3</td>\n",
       "      <td>I watched first eposide and I can say they did...</td>\n",
       "      <td>1 September 2023</td>\n",
       "      <td>9.0</td>\n",
       "    </tr>\n",
       "  </tbody>\n",
       "</table>\n",
       "<p>878 rows × 5 columns</p>\n",
       "</div>"
      ],
      "text/plain": [
       "                                                 Title  linha nova  \\\n",
       "0            Never seen the anime and still enjoyed it           3   \n",
       "1               Not My Kind of Show. But This I Loved.           3   \n",
       "2                   I'm Shocked By How Good This Is...           3   \n",
       "3                       See Netflix?? You CAN do it...           3   \n",
       "4                                     WE WANT SEASON 2           3   \n",
       "..                                                 ...         ...   \n",
       "873  Most faithful and high quality adaptation sinc...           3   \n",
       "874  Me and my son loving it! The best entertaining...           3   \n",
       "875         A very good adaptation to the famous anime           3   \n",
       "876                            This wonderful thing...           3   \n",
       "877                             Best adaptation so far           3   \n",
       "\n",
       "                                                Review              Date  \\\n",
       "0    I have to admit that I've never watched any of...  4 September 2023   \n",
       "1    I'm a 60yo man & old school like the The Marin...  4 September 2023   \n",
       "2    Every live action anime that I've briefly seen...  1 September 2023   \n",
       "3    This is bar none one of the best live-action a...  4 September 2023   \n",
       "4    Being a one piece fan myself, I was a bit inse...    31 August 2023   \n",
       "..                                                 ...               ...   \n",
       "873  I haven't written a review in a very long time...  2 September 2023   \n",
       "874  This is my first IMDb review.\\n\\nI've watched ...  1 September 2023   \n",
       "875  An absolute gem! This show is a must-watch, an...  3 September 2023   \n",
       "876  I recently dived (no pun intended) into the wo...  2 September 2023   \n",
       "877  I watched first eposide and I can say they did...  1 September 2023   \n",
       "\n",
       "     Rating  \n",
       "0       8.0  \n",
       "1       9.0  \n",
       "2       9.0  \n",
       "3      10.0  \n",
       "4      10.0  \n",
       "..      ...  \n",
       "873    10.0  \n",
       "874     9.0  \n",
       "875    10.0  \n",
       "876    10.0  \n",
       "877     9.0  \n",
       "\n",
       "[878 rows x 5 columns]"
      ]
     },
     "execution_count": 10,
     "metadata": {},
     "output_type": "execute_result"
    }
   ],
   "source": [
    "df"
   ]
  },
  {
   "cell_type": "code",
   "execution_count": null,
   "metadata": {},
   "outputs": [],
   "source": [
    "#Apagar linha nova, nova, Adicional\n",
    "                                                #esse axis serve para indicar onde/oq vamos excluir\n",
    "                                                # =0 é a linha, =1 é a coluna. \n",
    "df= df.drop(['linha nova', 'nova', 'Adicional'], axis=1)"
   ]
  },
  {
   "cell_type": "code",
   "execution_count": null,
   "metadata": {},
   "outputs": [
    {
     "data": {
      "text/html": [
       "<div>\n",
       "<style scoped>\n",
       "    .dataframe tbody tr th:only-of-type {\n",
       "        vertical-align: middle;\n",
       "    }\n",
       "\n",
       "    .dataframe tbody tr th {\n",
       "        vertical-align: top;\n",
       "    }\n",
       "\n",
       "    .dataframe thead th {\n",
       "        text-align: right;\n",
       "    }\n",
       "</style>\n",
       "<table border=\"1\" class=\"dataframe\">\n",
       "  <thead>\n",
       "    <tr style=\"text-align: right;\">\n",
       "      <th></th>\n",
       "      <th>Title</th>\n",
       "      <th>Review</th>\n",
       "      <th>Date</th>\n",
       "      <th>Rating</th>\n",
       "    </tr>\n",
       "  </thead>\n",
       "  <tbody>\n",
       "    <tr>\n",
       "      <th>0</th>\n",
       "      <td>Never seen the anime and still enjoyed it</td>\n",
       "      <td>I have to admit that I've never watched any of...</td>\n",
       "      <td>4 September 2023</td>\n",
       "      <td>8.0</td>\n",
       "    </tr>\n",
       "  </tbody>\n",
       "</table>\n",
       "</div>"
      ],
      "text/plain": [
       "                                       Title  \\\n",
       "0  Never seen the anime and still enjoyed it   \n",
       "\n",
       "                                              Review              Date  Rating  \n",
       "0  I have to admit that I've never watched any of...  4 September 2023     8.0  "
      ]
     },
     "execution_count": 46,
     "metadata": {},
     "output_type": "execute_result"
    }
   ],
   "source": [
    "df.head(1) #Verificar se realmente apagou. "
   ]
  },
  {
   "cell_type": "code",
   "execution_count": null,
   "metadata": {},
   "outputs": [],
   "source": []
  }
 ],
 "metadata": {
  "kernelspec": {
   "display_name": "Python 3",
   "language": "python",
   "name": "python3"
  },
  "language_info": {
   "codemirror_mode": {
    "name": "ipython",
    "version": 3
   },
   "file_extension": ".py",
   "mimetype": "text/x-python",
   "name": "python",
   "nbconvert_exporter": "python",
   "pygments_lexer": "ipython3",
   "version": "3.11.4"
  },
  "orig_nbformat": 4
 },
 "nbformat": 4,
 "nbformat_minor": 2
}
